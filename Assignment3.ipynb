{
 "cells": [
  {
   "cell_type": "markdown",
   "metadata": {},
   "source": [
    "## 2.LOAD THE DATASET"
   ]
  },
  {
   "cell_type": "code",
   "execution_count": 1,
   "metadata": {},
   "outputs": [],
   "source": [
    "import pandas as pd"
   ]
  },
  {
   "cell_type": "code",
   "execution_count": 2,
   "metadata": {},
   "outputs": [],
   "source": [
    "data=pd.read_csv('Mall_Customers.csv')"
   ]
  },
  {
   "cell_type": "code",
   "execution_count": 3,
   "metadata": {},
   "outputs": [
    {
     "data": {
      "text/html": [
       "<div>\n",
       "<style scoped>\n",
       "    .dataframe tbody tr th:only-of-type {\n",
       "        vertical-align: middle;\n",
       "    }\n",
       "\n",
       "    .dataframe tbody tr th {\n",
       "        vertical-align: top;\n",
       "    }\n",
       "\n",
       "    .dataframe thead th {\n",
       "        text-align: right;\n",
       "    }\n",
       "</style>\n",
       "<table border=\"1\" class=\"dataframe\">\n",
       "  <thead>\n",
       "    <tr style=\"text-align: right;\">\n",
       "      <th></th>\n",
       "      <th>CustomerID</th>\n",
       "      <th>Gender</th>\n",
       "      <th>Age</th>\n",
       "      <th>Annual Income (k$)</th>\n",
       "      <th>Spending Score (1-100)</th>\n",
       "    </tr>\n",
       "  </thead>\n",
       "  <tbody>\n",
       "    <tr>\n",
       "      <th>0</th>\n",
       "      <td>1</td>\n",
       "      <td>Male</td>\n",
       "      <td>19</td>\n",
       "      <td>15</td>\n",
       "      <td>39</td>\n",
       "    </tr>\n",
       "    <tr>\n",
       "      <th>1</th>\n",
       "      <td>2</td>\n",
       "      <td>Male</td>\n",
       "      <td>21</td>\n",
       "      <td>15</td>\n",
       "      <td>81</td>\n",
       "    </tr>\n",
       "    <tr>\n",
       "      <th>2</th>\n",
       "      <td>3</td>\n",
       "      <td>Female</td>\n",
       "      <td>20</td>\n",
       "      <td>16</td>\n",
       "      <td>6</td>\n",
       "    </tr>\n",
       "    <tr>\n",
       "      <th>3</th>\n",
       "      <td>4</td>\n",
       "      <td>Female</td>\n",
       "      <td>23</td>\n",
       "      <td>16</td>\n",
       "      <td>77</td>\n",
       "    </tr>\n",
       "    <tr>\n",
       "      <th>4</th>\n",
       "      <td>5</td>\n",
       "      <td>Female</td>\n",
       "      <td>31</td>\n",
       "      <td>17</td>\n",
       "      <td>40</td>\n",
       "    </tr>\n",
       "  </tbody>\n",
       "</table>\n",
       "</div>"
      ],
      "text/plain": [
       "   CustomerID  Gender  Age  Annual Income (k$)  Spending Score (1-100)\n",
       "0           1    Male   19                  15                      39\n",
       "1           2    Male   21                  15                      81\n",
       "2           3  Female   20                  16                       6\n",
       "3           4  Female   23                  16                      77\n",
       "4           5  Female   31                  17                      40"
      ]
     },
     "execution_count": 3,
     "metadata": {},
     "output_type": "execute_result"
    }
   ],
   "source": [
    "data.head()"
   ]
  },
  {
   "cell_type": "markdown",
   "metadata": {},
   "source": [
    "## 3.Perform Below visualizations"
   ]
  },
  {
   "cell_type": "code",
   "execution_count": 4,
   "metadata": {},
   "outputs": [],
   "source": [
    "import matplotlib.pyplot as plt\n",
    "import seaborn as sns"
   ]
  },
  {
   "cell_type": "code",
   "execution_count": 5,
   "metadata": {},
   "outputs": [
    {
     "data": {
      "image/png": "[encoded data removed]",
      "text/plain": [
       "<Figure size 432x288 with 1 Axes>"
      ]
     },
     "metadata": {
      "needs_background": "light"
     },
     "output_type": "display_data"
    }
   ],
   "source": [
    "plt.scatter(data.index,data['CustomerID'])\n",
    "plt.show()"
   ]
  },
  {
   "cell_type": "code",
   "execution_count": 6,
   "metadata": {},
   "outputs": [
    {
     "data": {
      "text/plain": [
       "<matplotlib.axes._subplots.AxesSubplot at 0x289ac401320>"
      ]
     },
     "execution_count": 6,
     "metadata": {},
     "output_type": "execute_result"
    },
    {
     "data": {
      "image/png": "[encoded data removed]",
      "text/plain": [
       "<Figure size 432x288 with 1 Axes>"
      ]
     },
     "metadata": {
      "needs_background": "light"
     },
     "output_type": "display_data"
    }
   ],
   "source": [
    "sns.scatterplot(x=data.index,y=data['CustomerID'],hue=data['Age'])"
   ]
  },
  {
   "cell_type": "code",
   "execution_count": 7,
   "metadata": {},
   "outputs": [
    {
     "data": {
      "text/plain": [
       "(array([24., 22., 28., 38., 30., 36.,  8.,  6.,  4.,  4.]),\n",
       " array([ 15. ,  27.2,  39.4,  51.6,  63.8,  76. ,  88.2, 100.4, 112.6,\n",
       "        124.8, 137. ]),\n",
       " <a list of 10 Patch objects>)"
      ]
     },
     "execution_count": 7,
     "metadata": {},
     "output_type": "execute_result"
    },
    {
     "data": {
      "image/png": "[encoded data removed]",
      "text/plain": [
       "<Figure size 432x288 with 1 Axes>"
      ]
     },
     "metadata": {
      "needs_background": "light"
     },
     "output_type": "display_data"
    }
   ],
   "source": [
    "plt.hist(data['Annual Income (k$)'])"
   ]
  },
  {
   "cell_type": "markdown",
   "metadata": {},
   "source": [
    "##BiVariate Analysis"
   ]
  },
  {
   "cell_type": "code",
   "execution_count": 9,
   "metadata": {},
   "outputs": [
    {
     "data": {
      "text/plain": [
       "{'whiskers': [<matplotlib.lines.Line2D at 0x289ac5dd6a0>,\n",
       "  <matplotlib.lines.Line2D at 0x289ac5dd9e8>],\n",
       " 'caps': [<matplotlib.lines.Line2D at 0x289ac5ddd30>,\n",
       "  <matplotlib.lines.Line2D at 0x289ac5ddcf8>],\n",
       " 'boxes': [<matplotlib.lines.Line2D at 0x289ac5dd2b0>],\n",
       " 'medians': [<matplotlib.lines.Line2D at 0x289ac5e7400>],\n",
       " 'fliers': [<matplotlib.lines.Line2D at 0x289ac5e7748>],\n",
       " 'means': []}"
      ]
     },
     "execution_count": 9,
     "metadata": {},
     "output_type": "execute_result"
    },
    {
     "data": {
      "image/png": "[encoded data removed]",
      "text/plain": [
       "<Figure size 432x288 with 1 Axes>"
      ]
     },
     "metadata": {
      "needs_background": "light"
     },
     "output_type": "display_data"
    }
   ],
   "source": [
    "plt.boxplot(data['CustomerID'])"
   ]
  },
  {
   "cell_type": "code",
   "execution_count": 10,
   "metadata": {},
   "outputs": [
    {
     "data": {
      "text/html": [
       "<div>\n",
       "<style scoped>\n",
       "    .dataframe tbody tr th:only-of-type {\n",
       "        vertical-align: middle;\n",
       "    }\n",
       "\n",
       "    .dataframe tbody tr th {\n",
       "        vertical-align: top;\n",
       "    }\n",
       "\n",
       "    .dataframe thead th {\n",
       "        text-align: right;\n",
       "    }\n",
       "</style>\n",
       "<table border=\"1\" class=\"dataframe\">\n",
       "  <thead>\n",
       "    <tr style=\"text-align: right;\">\n",
       "      <th></th>\n",
       "      <th>CustomerID</th>\n",
       "      <th>Age</th>\n",
       "      <th>Annual Income (k$)</th>\n",
       "      <th>Spending Score (1-100)</th>\n",
       "    </tr>\n",
       "  </thead>\n",
       "  <tbody>\n",
       "    <tr>\n",
       "      <th>CustomerID</th>\n",
       "      <td>1.000000</td>\n",
       "      <td>-0.026763</td>\n",
       "      <td>0.977548</td>\n",
       "      <td>0.013835</td>\n",
       "    </tr>\n",
       "    <tr>\n",
       "      <th>Age</th>\n",
       "      <td>-0.026763</td>\n",
       "      <td>1.000000</td>\n",
       "      <td>-0.012398</td>\n",
       "      <td>-0.327227</td>\n",
       "    </tr>\n",
       "    <tr>\n",
       "      <th>Annual Income (k$)</th>\n",
       "      <td>0.977548</td>\n",
       "      <td>-0.012398</td>\n",
       "      <td>1.000000</td>\n",
       "      <td>0.009903</td>\n",
       "    </tr>\n",
       "    <tr>\n",
       "      <th>Spending Score (1-100)</th>\n",
       "      <td>0.013835</td>\n",
       "      <td>-0.327227</td>\n",
       "      <td>0.009903</td>\n",
       "      <td>1.000000</td>\n",
       "    </tr>\n",
       "  </tbody>\n",
       "</table>\n",
       "</div>"
      ],
      "text/plain": [
       "                        CustomerID       Age  Annual Income (k$)  \\\n",
       "CustomerID                1.000000 -0.026763            0.977548   \n",
       "Age                      -0.026763  1.000000           -0.012398   \n",
       "Annual Income (k$)        0.977548 -0.012398            1.000000   \n",
       "Spending Score (1-100)    0.013835 -0.327227            0.009903   \n",
       "\n",
       "                        Spending Score (1-100)  \n",
       "CustomerID                            0.013835  \n",
       "Age                                  -0.327227  \n",
       "Annual Income (k$)                    0.009903  \n",
       "Spending Score (1-100)                1.000000  "
      ]
     },
     "execution_count": 10,
     "metadata": {},
     "output_type": "execute_result"
    }
   ],
   "source": [
    "data.corr()"
   ]
  },
  {
   "cell_type": "markdown",
   "metadata": {},
   "source": [
    "##MultiVariate Analysis "
   ]
  },
  {
   "cell_type": "code",
   "execution_count": 11,
   "metadata": {},
   "outputs": [
    {
     "data": {
      "text/plain": [
       "<seaborn.axisgrid.PairGrid at 0x289ac53d198>"
      ]
     },
     "execution_count": 11,
     "metadata": {},
     "output_type": "execute_result"
    },
    {
     "data": {
      "image/png": "[encoded data removed]",
      "text/plain": [
       "<Figure size 720x720 with 20 Axes>"
      ]
     },
     "metadata": {
      "needs_background": "light"
     },
     "output_type": "display_data"
    }
   ],
   "source": [
    "sns.pairplot(data)"
   ]
  },
  {
   "cell_type": "markdown",
   "metadata": {},
   "source": [
    "## 4.Perform Descriptive statistics on the dataset "
   ]
  },
  {
   "cell_type": "code",
   "execution_count": 12,
   "metadata": {},
   "outputs": [
    {
     "data": {
      "text/html": [
       "<div>\n",
       "<style scoped>\n",
       "    .dataframe tbody tr th:only-of-type {\n",
       "        vertical-align: middle;\n",
       "    }\n",
       "\n",
       "    .dataframe tbody tr th {\n",
       "        vertical-align: top;\n",
       "    }\n",
       "\n",
       "    .dataframe thead th {\n",
       "        text-align: right;\n",
       "    }\n",
       "</style>\n",
       "<table border=\"1\" class=\"dataframe\">\n",
       "  <thead>\n",
       "    <tr style=\"text-align: right;\">\n",
       "      <th></th>\n",
       "      <th>CustomerID</th>\n",
       "      <th>Age</th>\n",
       "      <th>Annual Income (k$)</th>\n",
       "      <th>Spending Score (1-100)</th>\n",
       "    </tr>\n",
       "  </thead>\n",
       "  <tbody>\n",
       "    <tr>\n",
       "      <th>count</th>\n",
       "      <td>200.000000</td>\n",
       "      <td>200.000000</td>\n",
       "      <td>200.000000</td>\n",
       "      <td>200.000000</td>\n",
       "    </tr>\n",
       "    <tr>\n",
       "      <th>mean</th>\n",
       "      <td>100.500000</td>\n",
       "      <td>38.850000</td>\n",
       "      <td>60.560000</td>\n",
       "      <td>50.200000</td>\n",
       "    </tr>\n",
       "    <tr>\n",
       "      <th>std</th>\n",
       "      <td>57.879185</td>\n",
       "      <td>13.969007</td>\n",
       "      <td>26.264721</td>\n",
       "      <td>25.823522</td>\n",
       "    </tr>\n",
       "    <tr>\n",
       "      <th>min</th>\n",
       "      <td>1.000000</td>\n",
       "      <td>18.000000</td>\n",
       "      <td>15.000000</td>\n",
       "      <td>1.000000</td>\n",
       "    </tr>\n",
       "    <tr>\n",
       "      <th>25%</th>\n",
       "      <td>50.750000</td>\n",
       "      <td>28.750000</td>\n",
       "      <td>41.500000</td>\n",
       "      <td>34.750000</td>\n",
       "    </tr>\n",
       "    <tr>\n",
       "      <th>50%</th>\n",
       "      <td>100.500000</td>\n",
       "      <td>36.000000</td>\n",
       "      <td>61.500000</td>\n",
       "      <td>50.000000</td>\n",
       "    </tr>\n",
       "    <tr>\n",
       "      <th>75%</th>\n",
       "      <td>150.250000</td>\n",
       "      <td>49.000000</td>\n",
       "      <td>78.000000</td>\n",
       "      <td>73.000000</td>\n",
       "    </tr>\n",
       "    <tr>\n",
       "      <th>max</th>\n",
       "      <td>200.000000</td>\n",
       "      <td>70.000000</td>\n",
       "      <td>137.000000</td>\n",
       "      <td>99.000000</td>\n",
       "    </tr>\n",
       "  </tbody>\n",
       "</table>\n",
       "</div>"
      ],
      "text/plain": [
       "       CustomerID         Age  Annual Income (k$)  Spending Score (1-100)\n",
       "count  200.000000  200.000000          200.000000              200.000000\n",
       "mean   100.500000   38.850000           60.560000               50.200000\n",
       "std     57.879185   13.969007           26.264721               25.823522\n",
       "min      1.000000   18.000000           15.000000                1.000000\n",
       "25%     50.750000   28.750000           41.500000               34.750000\n",
       "50%    100.500000   36.000000           61.500000               50.000000\n",
       "75%    150.250000   49.000000           78.000000               73.000000\n",
       "max    200.000000   70.000000          137.000000               99.000000"
      ]
     },
     "execution_count": 12,
     "metadata": {},
     "output_type": "execute_result"
    }
   ],
   "source": [
    "data.describe()"
   ]
  },
  {
   "cell_type": "markdown",
   "metadata": {},
   "source": [
    "## 5.HANDLE THE MISSING VALUES "
   ]
  },
  {
   "cell_type": "code",
   "execution_count": 13,
   "metadata": {},
   "outputs": [
    {
     "data": {
      "text/plain": [
       "CustomerID                0\n",
       "Gender                    0\n",
       "Age                       0\n",
       "Annual Income (k$)        0\n",
       "Spending Score (1-100)    0\n",
       "dtype: int64"
      ]
     },
     "execution_count": 13,
     "metadata": {},
     "output_type": "execute_result"
    }
   ],
   "source": [
    "data.isnull().sum()"
   ]
  },
  {
   "cell_type": "code",
   "execution_count": 14,
   "metadata": {},
   "outputs": [],
   "source": [
    "#No Null values present in this dataset\n",
    "#incase age,region column has missing values we can us below code:\n",
    "data['Age'].fillna(data['Age'].mean(),inplace=True)"
   ]
  },
  {
   "cell_type": "markdown",
   "metadata": {},
   "source": [
    "## 6.FIND THE OUTLIERS AND REPLACE THE OUTLIERS "
   ]
  },
  {
   "cell_type": "code",
   "execution_count": 15,
   "metadata": {},
   "outputs": [],
   "source": [
    "import seaborn as sns"
   ]
  },
  {
   "cell_type": "code",
   "execution_count": 16,
   "metadata": {},
   "outputs": [
    {
     "data": {
      "text/plain": [
       "<matplotlib.axes._subplots.AxesSubplot at 0x289acdadcf8>"
      ]
     },
     "execution_count": 16,
     "metadata": {},
     "output_type": "execute_result"
    },
    {
     "data": {
      "image/png": "[encoded data removed]",
      "text/plain": [
       "<Figure size 432x288 with 1 Axes>"
      ]
     },
     "metadata": {
      "needs_background": "light"
     },
     "output_type": "display_data"
    }
   ],
   "source": [
    "sns.boxplot(data.Age)"
   ]
  },
  {
   "cell_type": "code",
   "execution_count": 18,
   "metadata": {},
   "outputs": [
    {
     "data": {
      "text/plain": [
       "69.00999999999999"
      ]
     },
     "execution_count": 18,
     "metadata": {},
     "output_type": "execute_result"
    }
   ],
   "source": [
    "perc99=data.Age.quantile(0.99)\n",
    "perc99"
   ]
  },
  {
   "cell_type": "code",
   "execution_count": 19,
   "metadata": {},
   "outputs": [
    {
     "data": {
      "text/plain": [
       "<matplotlib.axes._subplots.AxesSubplot at 0x289ad033b00>"
      ]
     },
     "execution_count": 19,
     "metadata": {},
     "output_type": "execute_result"
    },
    {
     "data": {
      "image/png": "[encoded data removed]",
      "text/plain": [
       "<Figure size 432x288 with 1 Axes>"
      ]
     },
     "metadata": {
      "needs_background": "light"
     },
     "output_type": "display_data"
    }
   ],
   "source": [
    "##If outlier is present\n",
    "data=data[data.Age<=perc99]\n",
    "sns.boxplot(data.Age)"
   ]
  },
  {
   "cell_type": "markdown",
   "metadata": {},
   "source": [
    "## 7.CHECK THE CATEGORICAL COLUMN AND PERFORM ENCODING "
   ]
  },
  {
   "cell_type": "code",
   "execution_count": 20,
   "metadata": {},
   "outputs": [
    {
     "data": {
      "text/html": [
       "<div>\n",
       "<style scoped>\n",
       "    .dataframe tbody tr th:only-of-type {\n",
       "        vertical-align: middle;\n",
       "    }\n",
       "\n",
       "    .dataframe tbody tr th {\n",
       "        vertical-align: top;\n",
       "    }\n",
       "\n",
       "    .dataframe thead th {\n",
       "        text-align: right;\n",
       "    }\n",
       "</style>\n",
       "<table border=\"1\" class=\"dataframe\">\n",
       "  <thead>\n",
       "    <tr style=\"text-align: right;\">\n",
       "      <th></th>\n",
       "      <th>CustomerID</th>\n",
       "      <th>Gender</th>\n",
       "      <th>Age</th>\n",
       "      <th>Annual Income (k$)</th>\n",
       "      <th>Spending Score (1-100)</th>\n",
       "    </tr>\n",
       "  </thead>\n",
       "  <tbody>\n",
       "    <tr>\n",
       "      <th>0</th>\n",
       "      <td>1</td>\n",
       "      <td>Male</td>\n",
       "      <td>19</td>\n",
       "      <td>15</td>\n",
       "      <td>39</td>\n",
       "    </tr>\n",
       "    <tr>\n",
       "      <th>1</th>\n",
       "      <td>2</td>\n",
       "      <td>Male</td>\n",
       "      <td>21</td>\n",
       "      <td>15</td>\n",
       "      <td>81</td>\n",
       "    </tr>\n",
       "    <tr>\n",
       "      <th>2</th>\n",
       "      <td>3</td>\n",
       "      <td>Female</td>\n",
       "      <td>20</td>\n",
       "      <td>16</td>\n",
       "      <td>6</td>\n",
       "    </tr>\n",
       "    <tr>\n",
       "      <th>3</th>\n",
       "      <td>4</td>\n",
       "      <td>Female</td>\n",
       "      <td>23</td>\n",
       "      <td>16</td>\n",
       "      <td>77</td>\n",
       "    </tr>\n",
       "    <tr>\n",
       "      <th>4</th>\n",
       "      <td>5</td>\n",
       "      <td>Female</td>\n",
       "      <td>31</td>\n",
       "      <td>17</td>\n",
       "      <td>40</td>\n",
       "    </tr>\n",
       "  </tbody>\n",
       "</table>\n",
       "</div>"
      ],
      "text/plain": [
       "   CustomerID  Gender  Age  Annual Income (k$)  Spending Score (1-100)\n",
       "0           1    Male   19                  15                      39\n",
       "1           2    Male   21                  15                      81\n",
       "2           3  Female   20                  16                       6\n",
       "3           4  Female   23                  16                      77\n",
       "4           5  Female   31                  17                      40"
      ]
     },
     "execution_count": 20,
     "metadata": {},
     "output_type": "execute_result"
    }
   ],
   "source": [
    "data.head()"
   ]
  },
  {
   "cell_type": "code",
   "execution_count": 21,
   "metadata": {},
   "outputs": [],
   "source": [
    "from sklearn.preprocessing import LabelEncoder\n",
    "le=LabelEncoder()"
   ]
  },
  {
   "cell_type": "code",
   "execution_count": 22,
   "metadata": {},
   "outputs": [
    {
     "name": "stderr",
     "output_type": "stream",
     "text": [
      "C:\\Users\\sajus\\Anaconda3\\lib\\site-packages\\pandas\\core\\generic.py:5096: SettingWithCopyWarning: \n",
      "A value is trying to be set on a copy of a slice from a DataFrame.\n",
      "Try using .loc[row_indexer,col_indexer] = value instead\n",
      "\n",
      "See the caveats in the documentation: http://pandas.pydata.org/pandas-docs/stable/indexing.html#indexing-view-versus-copy\n",
      "  self[name] = value\n"
     ]
    }
   ],
   "source": [
    "data.Gender=le.fit_transform(data.Gender)"
   ]
  },
  {
   "cell_type": "code",
   "execution_count": 23,
   "metadata": {},
   "outputs": [
    {
     "data": {
      "text/html": [
       "<div>\n",
       "<style scoped>\n",
       "    .dataframe tbody tr th:only-of-type {\n",
       "        vertical-align: middle;\n",
       "    }\n",
       "\n",
       "    .dataframe tbody tr th {\n",
       "        vertical-align: top;\n",
       "    }\n",
       "\n",
       "    .dataframe thead th {\n",
       "        text-align: right;\n",
       "    }\n",
       "</style>\n",
       "<table border=\"1\" class=\"dataframe\">\n",
       "  <thead>\n",
       "    <tr style=\"text-align: right;\">\n",
       "      <th></th>\n",
       "      <th>CustomerID</th>\n",
       "      <th>Gender</th>\n",
       "      <th>Age</th>\n",
       "      <th>Annual Income (k$)</th>\n",
       "      <th>Spending Score (1-100)</th>\n",
       "    </tr>\n",
       "  </thead>\n",
       "  <tbody>\n",
       "    <tr>\n",
       "      <th>0</th>\n",
       "      <td>1</td>\n",
       "      <td>1</td>\n",
       "      <td>19</td>\n",
       "      <td>15</td>\n",
       "      <td>39</td>\n",
       "    </tr>\n",
       "    <tr>\n",
       "      <th>1</th>\n",
       "      <td>2</td>\n",
       "      <td>1</td>\n",
       "      <td>21</td>\n",
       "      <td>15</td>\n",
       "      <td>81</td>\n",
       "    </tr>\n",
       "    <tr>\n",
       "      <th>2</th>\n",
       "      <td>3</td>\n",
       "      <td>0</td>\n",
       "      <td>20</td>\n",
       "      <td>16</td>\n",
       "      <td>6</td>\n",
       "    </tr>\n",
       "    <tr>\n",
       "      <th>3</th>\n",
       "      <td>4</td>\n",
       "      <td>0</td>\n",
       "      <td>23</td>\n",
       "      <td>16</td>\n",
       "      <td>77</td>\n",
       "    </tr>\n",
       "    <tr>\n",
       "      <th>4</th>\n",
       "      <td>5</td>\n",
       "      <td>0</td>\n",
       "      <td>31</td>\n",
       "      <td>17</td>\n",
       "      <td>40</td>\n",
       "    </tr>\n",
       "  </tbody>\n",
       "</table>\n",
       "</div>"
      ],
      "text/plain": [
       "   CustomerID  Gender  Age  Annual Income (k$)  Spending Score (1-100)\n",
       "0           1       1   19                  15                      39\n",
       "1           2       1   21                  15                      81\n",
       "2           3       0   20                  16                       6\n",
       "3           4       0   23                  16                      77\n",
       "4           5       0   31                  17                      40"
      ]
     },
     "execution_count": 23,
     "metadata": {},
     "output_type": "execute_result"
    }
   ],
   "source": [
    "data.head()"
   ]
  },
  {
   "cell_type": "markdown",
   "metadata": {},
   "source": [
    "##  8. Scaling the data "
   ]
  },
  {
   "cell_type": "code",
   "execution_count": 24,
   "metadata": {},
   "outputs": [],
   "source": [
    "##Standization"
   ]
  },
  {
   "cell_type": "code",
   "execution_count": 28,
   "metadata": {},
   "outputs": [],
   "source": [
    "x=data[['Annual Income (k$)','Spending Score (1-100)']]"
   ]
  },
  {
   "cell_type": "code",
   "execution_count": 29,
   "metadata": {},
   "outputs": [
    {
     "data": {
      "text/html": [
       "<div>\n",
       "<style scoped>\n",
       "    .dataframe tbody tr th:only-of-type {\n",
       "        vertical-align: middle;\n",
       "    }\n",
       "\n",
       "    .dataframe tbody tr th {\n",
       "        vertical-align: top;\n",
       "    }\n",
       "\n",
       "    .dataframe thead th {\n",
       "        text-align: right;\n",
       "    }\n",
       "</style>\n",
       "<table border=\"1\" class=\"dataframe\">\n",
       "  <thead>\n",
       "    <tr style=\"text-align: right;\">\n",
       "      <th></th>\n",
       "      <th>Annual Income (k$)</th>\n",
       "      <th>Spending Score (1-100)</th>\n",
       "    </tr>\n",
       "  </thead>\n",
       "  <tbody>\n",
       "    <tr>\n",
       "      <th>0</th>\n",
       "      <td>15</td>\n",
       "      <td>39</td>\n",
       "    </tr>\n",
       "    <tr>\n",
       "      <th>1</th>\n",
       "      <td>15</td>\n",
       "      <td>81</td>\n",
       "    </tr>\n",
       "    <tr>\n",
       "      <th>2</th>\n",
       "      <td>16</td>\n",
       "      <td>6</td>\n",
       "    </tr>\n",
       "    <tr>\n",
       "      <th>3</th>\n",
       "      <td>16</td>\n",
       "      <td>77</td>\n",
       "    </tr>\n",
       "    <tr>\n",
       "      <th>4</th>\n",
       "      <td>17</td>\n",
       "      <td>40</td>\n",
       "    </tr>\n",
       "  </tbody>\n",
       "</table>\n",
       "</div>"
      ],
      "text/plain": [
       "   Annual Income (k$)  Spending Score (1-100)\n",
       "0                  15                      39\n",
       "1                  15                      81\n",
       "2                  16                       6\n",
       "3                  16                      77\n",
       "4                  17                      40"
      ]
     },
     "execution_count": 29,
     "metadata": {},
     "output_type": "execute_result"
    }
   ],
   "source": [
    "x.head()"
   ]
  },
  {
   "cell_type": "code",
   "execution_count": 30,
   "metadata": {},
   "outputs": [],
   "source": [
    "from sklearn.preprocessing import StandardScaler"
   ]
  },
  {
   "cell_type": "code",
   "execution_count": 31,
   "metadata": {},
   "outputs": [],
   "source": [
    "scale=StandardScaler()"
   ]
  },
  {
   "cell_type": "code",
   "execution_count": 32,
   "metadata": {},
   "outputs": [],
   "source": [
    "st_scale=scale.fit_transform(x)"
   ]
  },
  {
   "cell_type": "code",
   "execution_count": 33,
   "metadata": {},
   "outputs": [
    {
     "data": {
      "text/plain": [
       "array([[-1.72395579e+00,  1.14119480e+00, -1.43156122e+00,\n",
       "        -1.73750289e+00],\n",
       "       [-1.70669007e+00,  1.14119480e+00, -1.28500014e+00,\n",
       "        -1.73750289e+00],\n",
       "       [-1.68942435e+00, -8.76274582e-01, -1.35828068e+00,\n",
       "        -1.69947640e+00],\n",
       "       [-1.67215864e+00, -8.76274582e-01, -1.13843907e+00,\n",
       "        -1.69947640e+00],\n",
       "       [-1.65489292e+00, -8.76274582e-01, -5.52194762e-01,\n",
       "        -1.66144992e+00],\n",
       "       [-1.63762720e+00, -8.76274582e-01, -1.21171960e+00,\n",
       "        -1.66144992e+00],\n",
       "       [-1.62036148e+00, -8.76274582e-01, -2.59072609e-01,\n",
       "        -1.62342344e+00],\n",
       "       [-1.60309576e+00, -8.76274582e-01, -1.13843907e+00,\n",
       "        -1.62342344e+00],\n",
       "       [-1.58583005e+00,  1.14119480e+00,  1.86606300e+00,\n",
       "        -1.58539696e+00],\n",
       "       [-1.56856433e+00, -8.76274582e-01, -6.25475300e-01,\n",
       "        -1.58539696e+00],\n",
       "       [-1.55129861e+00,  1.14119480e+00,  2.08590461e+00,\n",
       "        -1.58539696e+00],\n",
       "       [-1.53403289e+00, -8.76274582e-01, -2.59072609e-01,\n",
       "        -1.58539696e+00],\n",
       "       [-1.51676717e+00, -8.76274582e-01,  1.42637977e+00,\n",
       "        -1.54737048e+00],\n",
       "       [-1.49950146e+00, -8.76274582e-01, -1.06515853e+00,\n",
       "        -1.54737048e+00],\n",
       "       [-1.48223574e+00,  1.14119480e+00, -1.12511533e-01,\n",
       "        -1.54737048e+00],\n",
       "       [-1.46497002e+00,  1.14119480e+00, -1.21171960e+00,\n",
       "        -1.54737048e+00],\n",
       "       [-1.44770430e+00, -8.76274582e-01, -2.59072609e-01,\n",
       "        -1.50934400e+00],\n",
       "       [-1.43043858e+00,  1.14119480e+00, -1.35828068e+00,\n",
       "        -1.50934400e+00],\n",
       "       [-1.41317287e+00,  1.14119480e+00,  9.86696538e-01,\n",
       "        -1.43329104e+00],\n",
       "       [-1.39590715e+00, -8.76274582e-01, -2.59072609e-01,\n",
       "        -1.43329104e+00],\n",
       "       [-1.37864143e+00,  1.14119480e+00, -2.59072609e-01,\n",
       "        -1.39526456e+00],\n",
       "       [-1.36137571e+00,  1.14119480e+00, -9.91877990e-01,\n",
       "        -1.39526456e+00],\n",
       "       [-1.34410999e+00, -8.76274582e-01,  5.47013310e-01,\n",
       "        -1.35723808e+00],\n",
       "       [-1.32684427e+00,  1.14119480e+00, -5.52194762e-01,\n",
       "        -1.35723808e+00],\n",
       "       [-1.30957856e+00, -8.76274582e-01,  1.13325761e+00,\n",
       "        -1.24315864e+00],\n",
       "       [-1.29231284e+00,  1.14119480e+00, -6.98755838e-01,\n",
       "        -1.24315864e+00],\n",
       "       [-1.27504712e+00, -8.76274582e-01,  4.73732772e-01,\n",
       "        -1.24315864e+00],\n",
       "       [-1.25778140e+00,  1.14119480e+00, -2.59072609e-01,\n",
       "        -1.24315864e+00],\n",
       "       [-1.24051568e+00, -8.76274582e-01,  1.07330081e-01,\n",
       "        -1.20513215e+00],\n",
       "       [-1.22324997e+00, -8.76274582e-01, -1.13843907e+00,\n",
       "        -1.20513215e+00],\n",
       "       [-1.20598425e+00,  1.14119480e+00,  1.57294084e+00,\n",
       "        -1.16710567e+00],\n",
       "       [-1.18871853e+00, -8.76274582e-01, -1.28500014e+00,\n",
       "        -1.16710567e+00],\n",
       "       [-1.17145281e+00,  1.14119480e+00,  1.05997708e+00,\n",
       "        -1.05302623e+00],\n",
       "       [-1.15418709e+00,  1.14119480e+00, -1.50484176e+00,\n",
       "        -1.05302623e+00],\n",
       "       [-1.13692138e+00, -8.76274582e-01,  7.66854924e-01,\n",
       "        -1.05302623e+00],\n",
       "       [-1.11965566e+00, -8.76274582e-01, -1.28500014e+00,\n",
       "        -1.05302623e+00],\n",
       "       [-1.10238994e+00, -8.76274582e-01,  2.53891157e-01,\n",
       "        -1.01499975e+00],\n",
       "       [-1.08512422e+00, -8.76274582e-01, -6.25475300e-01,\n",
       "        -1.01499975e+00],\n",
       "       [-1.06785850e+00, -8.76274582e-01, -1.85792071e-01,\n",
       "        -9.00920309e-01],\n",
       "       [-1.05059279e+00, -8.76274582e-01, -1.35828068e+00,\n",
       "        -9.00920309e-01],\n",
       "       [-1.03332707e+00, -8.76274582e-01,  1.93934353e+00,\n",
       "        -8.62893828e-01],\n",
       "       [-1.01606135e+00,  1.14119480e+00, -1.06515853e+00,\n",
       "        -8.62893828e-01],\n",
       "       [-9.98795631e-01,  1.14119480e+00,  6.93574386e-01,\n",
       "        -8.24867347e-01],\n",
       "       [-9.81529913e-01, -8.76274582e-01, -5.52194762e-01,\n",
       "        -8.24867347e-01],\n",
       "       [-9.64264195e-01, -8.76274582e-01,  7.66854924e-01,\n",
       "        -8.24867347e-01],\n",
       "       [-9.46998477e-01, -8.76274582e-01, -1.06515853e+00,\n",
       "        -8.24867347e-01],\n",
       "       [-9.29732759e-01, -8.76274582e-01,  8.40135462e-01,\n",
       "        -7.86840867e-01],\n",
       "       [-9.12467041e-01, -8.76274582e-01, -8.45316914e-01,\n",
       "        -7.86840867e-01],\n",
       "       [-8.95201323e-01, -8.76274582e-01, -6.98755838e-01,\n",
       "        -7.86840867e-01],\n",
       "       [-8.77935605e-01, -8.76274582e-01, -5.52194762e-01,\n",
       "        -7.86840867e-01],\n",
       "       [-8.60669887e-01, -8.76274582e-01,  7.66854924e-01,\n",
       "        -7.10787905e-01],\n",
       "       [-8.43404168e-01,  1.14119480e+00, -4.05633686e-01,\n",
       "        -7.10787905e-01],\n",
       "       [-8.26138450e-01, -8.76274582e-01, -5.52194762e-01,\n",
       "        -6.72761424e-01],\n",
       "       [-8.08872732e-01,  1.14119480e+00,  1.49966030e+00,\n",
       "        -6.72761424e-01],\n",
       "       [-7.91607014e-01, -8.76274582e-01,  8.40135462e-01,\n",
       "        -6.72761424e-01],\n",
       "       [-7.74341296e-01,  1.14119480e+00,  6.20293848e-01,\n",
       "        -6.72761424e-01],\n",
       "       [-7.57075578e-01, -8.76274582e-01,  9.13416000e-01,\n",
       "        -6.34734944e-01],\n",
       "       [-7.39809860e-01,  1.14119480e+00,  2.23246569e+00,\n",
       "        -6.34734944e-01],\n",
       "       [-7.22544142e-01, -8.76274582e-01, -8.45316914e-01,\n",
       "        -5.58681982e-01],\n",
       "       [-7.05278424e-01,  1.14119480e+00,  1.05997708e+00,\n",
       "        -5.58681982e-01],\n",
       "       [-6.70746988e-01,  1.14119480e+00, -1.43156122e+00,\n",
       "        -5.58681982e-01],\n",
       "       [-6.53481269e-01, -8.76274582e-01,  2.08590461e+00,\n",
       "        -5.20655501e-01],\n",
       "       [-6.36215551e-01, -8.76274582e-01,  1.13325761e+00,\n",
       "        -5.20655501e-01],\n",
       "       [-6.18949833e-01,  1.14119480e+00,  1.79278246e+00,\n",
       "        -4.82629021e-01],\n",
       "       [-6.01684115e-01,  1.14119480e+00, -1.50484176e+00,\n",
       "        -4.82629021e-01],\n",
       "       [-5.84418397e-01, -8.76274582e-01,  3.27171695e-01,\n",
       "        -4.82629021e-01],\n",
       "       [-5.67152679e-01, -8.76274582e-01,  2.15918515e+00,\n",
       "        -4.82629021e-01],\n",
       "       [-5.49886961e-01,  1.14119480e+00, -1.43156122e+00,\n",
       "        -4.82629021e-01],\n",
       "       [-5.32621243e-01, -8.76274582e-01, -4.78914224e-01,\n",
       "        -4.82629021e-01],\n",
       "       [-4.98089807e-01, -8.76274582e-01,  6.20293848e-01,\n",
       "        -4.44602540e-01],\n",
       "       [-4.80824089e-01, -8.76274582e-01,  1.57294084e+00,\n",
       "        -4.06576059e-01],\n",
       "       [-4.63558370e-01, -8.76274582e-01,  1.57294084e+00,\n",
       "        -4.06576059e-01],\n",
       "       [-4.46292652e-01,  1.14119480e+00,  1.49966030e+00,\n",
       "        -2.54470136e-01],\n",
       "       [-4.29026934e-01,  1.14119480e+00, -9.18597452e-01,\n",
       "        -2.54470136e-01],\n",
       "       [-4.11761216e-01, -8.76274582e-01,  4.73732772e-01,\n",
       "        -2.54470136e-01],\n",
       "       [-3.94495498e-01,  1.14119480e+00,  1.07330081e-01,\n",
       "        -2.54470136e-01],\n",
       "       [-3.77229780e-01, -8.76274582e-01, -1.13843907e+00,\n",
       "        -2.54470136e-01],\n",
       "       [-3.59964062e-01, -8.76274582e-01,  7.66854924e-01,\n",
       "        -2.54470136e-01],\n",
       "       [-3.42698344e-01,  1.14119480e+00,  1.35309923e+00,\n",
       "        -2.54470136e-01],\n",
       "       [-3.25432626e-01,  1.14119480e+00, -3.92309951e-02,\n",
       "        -2.54470136e-01],\n",
       "       [-3.08166908e-01,  1.14119480e+00,  2.08590461e+00,\n",
       "        -2.54470136e-01],\n",
       "       [-2.90901190e-01, -8.76274582e-01,  5.47013310e-01,\n",
       "        -2.54470136e-01],\n",
       "       [-2.73635472e-01, -8.76274582e-01, -1.28500014e+00,\n",
       "        -2.54470136e-01],\n",
       "       [-2.56369753e-01,  1.14119480e+00,  6.93574386e-01,\n",
       "        -2.54470136e-01],\n",
       "       [-2.39104035e-01, -8.76274582e-01,  1.20653815e+00,\n",
       "        -1.40390694e-01],\n",
       "       [-2.21838317e-01, -8.76274582e-01, -1.21171960e+00,\n",
       "        -1.40390694e-01],\n",
       "       [-2.04572599e-01, -8.76274582e-01, -3.32353148e-01,\n",
       "        -1.02364213e-01],\n",
       "       [-1.87306881e-01, -8.76274582e-01,  8.40135462e-01,\n",
       "        -1.02364213e-01],\n",
       "       [-1.70041163e-01, -8.76274582e-01,  2.15918515e+00,\n",
       "        -6.43377326e-02],\n",
       "       [-1.52775445e-01,  1.14119480e+00, -1.50484176e+00,\n",
       "        -6.43377326e-02],\n",
       "       [-1.35509727e-01,  1.14119480e+00,  6.93574386e-01,\n",
       "        -2.63112518e-02],\n",
       "       [-1.18244009e-01, -8.76274582e-01,  1.07330081e-01,\n",
       "        -2.63112518e-02],\n",
       "       [-1.00978291e-01, -8.76274582e-01, -4.78914224e-01,\n",
       "        -2.63112518e-02],\n",
       "       [-8.37125726e-02,  1.14119480e+00, -1.06515853e+00,\n",
       "        -2.63112518e-02],\n",
       "       [-6.64468545e-02, -8.76274582e-01,  6.20293848e-01,\n",
       "        -2.63112518e-02],\n",
       "       [-4.91811364e-02, -8.76274582e-01, -8.45316914e-01,\n",
       "        -2.63112518e-02],\n",
       "       [-3.19154183e-02,  1.14119480e+00,  6.93574386e-01,\n",
       "         1.17152289e-02],\n",
       "       [-1.46497002e-02,  1.14119480e+00, -1.35828068e+00,\n",
       "         1.17152289e-02],\n",
       "       [ 2.61601789e-03, -8.76274582e-01, -1.13843907e+00,\n",
       "         4.97417097e-02],\n",
       "       [ 1.98817360e-02, -8.76274582e-01,  7.66854924e-01,\n",
       "         4.97417097e-02],\n",
       "       [ 3.71474541e-02,  1.14119480e+00,  2.08590461e+00,\n",
       "         4.97417097e-02],\n",
       "       [ 5.44131722e-02,  1.14119480e+00, -9.18597452e-01,\n",
       "         4.97417097e-02],\n",
       "       [ 7.16788902e-02,  1.14119480e+00,  7.66854924e-01,\n",
       "         4.97417097e-02],\n",
       "       [ 8.89446083e-02, -8.76274582e-01, -1.28500014e+00,\n",
       "         4.97417097e-02],\n",
       "       [ 1.06210326e-01, -8.76274582e-01,  2.01262407e+00,\n",
       "         8.77681904e-02],\n",
       "       [ 1.23476045e-01,  1.14119480e+00,  1.13325761e+00,\n",
       "         8.77681904e-02],\n",
       "       [ 1.40741763e-01,  1.14119480e+00,  2.15918515e+00,\n",
       "         8.77681904e-02],\n",
       "       [ 1.58007481e-01,  1.14119480e+00,  2.01262407e+00,\n",
       "         8.77681904e-02],\n",
       "       [ 1.75273199e-01,  1.14119480e+00,  1.93934353e+00,\n",
       "         8.77681904e-02],\n",
       "       [ 1.92538917e-01, -8.76274582e-01, -1.43156122e+00,\n",
       "         8.77681904e-02],\n",
       "       [ 2.09804635e-01, -8.76274582e-01, -3.92309951e-02,\n",
       "         1.25794671e-01],\n",
       "       [ 2.27070353e-01,  1.14119480e+00, -1.43156122e+00,\n",
       "         1.25794671e-01],\n",
       "       [ 2.44336071e-01, -8.76274582e-01, -1.50484176e+00,\n",
       "         1.63821152e-01],\n",
       "       [ 2.61601789e-01, -8.76274582e-01, -1.43156122e+00,\n",
       "         1.63821152e-01],\n",
       "       [ 2.78867507e-01, -8.76274582e-01,  1.79278246e+00,\n",
       "         1.63821152e-01],\n",
       "       [ 2.96133225e-01, -8.76274582e-01,  7.66854924e-01,\n",
       "         1.63821152e-01],\n",
       "       [ 3.13398943e-01, -8.76274582e-01,  9.13416000e-01,\n",
       "         2.39874113e-01],\n",
       "       [ 3.30664662e-01, -8.76274582e-01,  8.40135462e-01,\n",
       "         2.39874113e-01],\n",
       "       [ 3.47930380e-01,  1.14119480e+00, -8.45316914e-01,\n",
       "         2.39874113e-01],\n",
       "       [ 3.65196098e-01, -8.76274582e-01, -3.92309951e-02,\n",
       "         2.39874113e-01],\n",
       "       [ 3.82461816e-01, -8.76274582e-01,  1.07330081e-01,\n",
       "         3.15927075e-01],\n",
       "       [ 3.99727534e-01,  1.14119480e+00,  3.40495430e-02,\n",
       "         3.15927075e-01],\n",
       "       [ 4.16993252e-01, -8.76274582e-01, -1.13843907e+00,\n",
       "         3.53953556e-01],\n",
       "       [ 4.34258970e-01, -8.76274582e-01, -5.52194762e-01,\n",
       "         3.53953556e-01],\n",
       "       [ 4.51524688e-01,  1.14119480e+00,  3.27171695e-01,\n",
       "         3.91980036e-01],\n",
       "       [ 4.68790406e-01,  1.14119480e+00,  1.07330081e-01,\n",
       "         3.91980036e-01],\n",
       "       [ 4.86056124e-01,  1.14119480e+00,  1.49966030e+00,\n",
       "         3.91980036e-01],\n",
       "       [ 5.03321842e-01,  1.14119480e+00, -3.92309951e-02,\n",
       "         3.91980036e-01],\n",
       "       [ 5.20587561e-01,  1.14119480e+00,  6.20293848e-01,\n",
       "         3.91980036e-01],\n",
       "       [ 5.37853279e-01,  1.14119480e+00,  3.40495430e-02,\n",
       "         3.91980036e-01],\n",
       "       [ 5.55118997e-01, -8.76274582e-01, -9.91877990e-01,\n",
       "         4.30006517e-01],\n",
       "       [ 5.72384715e-01, -8.76274582e-01, -5.52194762e-01,\n",
       "         4.30006517e-01],\n",
       "       [ 5.89650433e-01,  1.14119480e+00, -1.35828068e+00,\n",
       "         4.68032998e-01],\n",
       "       [ 6.06916151e-01, -8.76274582e-01, -6.98755838e-01,\n",
       "         4.68032998e-01],\n",
       "       [ 6.24181869e-01, -8.76274582e-01,  4.00452233e-01,\n",
       "         4.68032998e-01],\n",
       "       [ 6.41447587e-01,  1.14119480e+00, -4.78914224e-01,\n",
       "         4.68032998e-01],\n",
       "       [ 6.58713305e-01,  1.14119480e+00, -1.43156122e+00,\n",
       "         5.06059479e-01],\n",
       "       [ 6.75979023e-01, -8.76274582e-01, -2.59072609e-01,\n",
       "         5.06059479e-01],\n",
       "       [ 6.93244741e-01, -8.76274582e-01,  1.35309923e+00,\n",
       "         5.44085959e-01],\n",
       "       [ 7.10510460e-01,  1.14119480e+00, -4.78914224e-01,\n",
       "         5.44085959e-01],\n",
       "       [ 7.27776178e-01, -8.76274582e-01, -7.72036376e-01,\n",
       "         5.82112440e-01],\n",
       "       [ 7.45041896e-01, -8.76274582e-01, -4.78914224e-01,\n",
       "         5.82112440e-01],\n",
       "       [ 7.62307614e-01,  1.14119480e+00, -9.91877990e-01,\n",
       "         6.20138921e-01],\n",
       "       [ 7.79573332e-01,  1.14119480e+00, -7.72036376e-01,\n",
       "         6.20138921e-01],\n",
       "       [ 7.96839050e-01,  1.14119480e+00,  6.93574386e-01,\n",
       "         6.20138921e-01],\n",
       "       [ 8.14104768e-01, -8.76274582e-01, -4.78914224e-01,\n",
       "         6.20138921e-01],\n",
       "       [ 8.31370486e-01, -8.76274582e-01, -3.32353148e-01,\n",
       "         6.58165401e-01],\n",
       "       [ 8.48636204e-01,  1.14119480e+00, -3.32353148e-01,\n",
       "         6.58165401e-01],\n",
       "       [ 8.65901922e-01,  1.14119480e+00,  3.27171695e-01,\n",
       "         6.58165401e-01],\n",
       "       [ 8.83167640e-01,  1.14119480e+00,  3.40495430e-02,\n",
       "         6.58165401e-01],\n",
       "       [ 9.00433358e-01, -8.76274582e-01,  4.00452233e-01,\n",
       "         6.58165401e-01],\n",
       "       [ 9.17699077e-01, -8.76274582e-01, -3.92309951e-02,\n",
       "         6.58165401e-01],\n",
       "       [ 9.34964795e-01, -8.76274582e-01,  6.20293848e-01,\n",
       "         6.58165401e-01],\n",
       "       [ 9.52230513e-01, -8.76274582e-01, -8.45316914e-01,\n",
       "         6.58165401e-01],\n",
       "       [ 9.69496231e-01,  1.14119480e+00, -1.12511533e-01,\n",
       "         6.58165401e-01],\n",
       "       [ 9.86761949e-01, -8.76274582e-01, -6.25475300e-01,\n",
       "         6.58165401e-01],\n",
       "       [ 1.00402767e+00,  1.14119480e+00, -3.32353148e-01,\n",
       "         6.58165401e-01],\n",
       "       [ 1.02129339e+00, -8.76274582e-01, -6.25475300e-01,\n",
       "         6.58165401e-01],\n",
       "       [ 1.03855910e+00, -8.76274582e-01,  1.27981869e+00,\n",
       "         6.96191882e-01],\n",
       "       [ 1.05582482e+00, -8.76274582e-01, -6.98755838e-01,\n",
       "         6.96191882e-01],\n",
       "       [ 1.07309054e+00,  1.14119480e+00, -1.43156122e+00,\n",
       "         7.72244844e-01],\n",
       "       [ 1.09035626e+00, -8.76274582e-01, -5.52194762e-01,\n",
       "         7.72244844e-01],\n",
       "       [ 1.10762198e+00,  1.14119480e+00,  8.40135462e-01,\n",
       "         9.24350767e-01],\n",
       "       [ 1.12488769e+00, -8.76274582e-01, -1.85792071e-01,\n",
       "         9.24350767e-01],\n",
       "       [ 1.14215341e+00,  1.14119480e+00,  2.53891157e-01,\n",
       "         9.62377247e-01],\n",
       "       [ 1.15941913e+00, -8.76274582e-01, -4.05633686e-01,\n",
       "         9.62377247e-01],\n",
       "       [ 1.17668485e+00, -8.76274582e-01, -1.85792071e-01,\n",
       "         1.00040373e+00],\n",
       "       [ 1.19395057e+00,  1.14119480e+00, -4.78914224e-01,\n",
       "         1.00040373e+00],\n",
       "       [ 1.21121628e+00,  1.14119480e+00,  1.07330081e-01,\n",
       "         1.00040373e+00],\n",
       "       [ 1.22848200e+00,  1.14119480e+00, -7.72036376e-01,\n",
       "         1.00040373e+00],\n",
       "       [ 1.24574772e+00,  1.14119480e+00, -1.85792071e-01,\n",
       "         1.00040373e+00],\n",
       "       [ 1.26301344e+00,  1.14119480e+00, -1.85792071e-01,\n",
       "         1.00040373e+00],\n",
       "       [ 1.28027916e+00, -8.76274582e-01,  9.86696538e-01,\n",
       "         1.03843021e+00],\n",
       "       [ 1.29754487e+00, -8.76274582e-01, -6.25475300e-01,\n",
       "         1.03843021e+00],\n",
       "       [ 1.31481059e+00,  1.14119480e+00,  1.42637977e+00,\n",
       "         1.03843021e+00],\n",
       "       [ 1.33207631e+00,  1.14119480e+00, -8.45316914e-01,\n",
       "         1.03843021e+00],\n",
       "       [ 1.34934203e+00,  1.14119480e+00,  1.49966030e+00,\n",
       "         1.22856261e+00],\n",
       "       [ 1.36660775e+00,  1.14119480e+00, -2.59072609e-01,\n",
       "         1.22856261e+00],\n",
       "       [ 1.38387346e+00, -8.76274582e-01, -1.12511533e-01,\n",
       "         1.38066854e+00],\n",
       "       [ 1.40113918e+00, -8.76274582e-01, -4.78914224e-01,\n",
       "         1.38066854e+00],\n",
       "       [ 1.41840490e+00,  1.14119480e+00,  5.47013310e-01,\n",
       "         1.41869502e+00],\n",
       "       [ 1.43567062e+00, -8.76274582e-01, -6.98755838e-01,\n",
       "         1.41869502e+00],\n",
       "       [ 1.45293634e+00, -8.76274582e-01,  1.80610619e-01,\n",
       "         1.45672150e+00],\n",
       "       [ 1.47020206e+00,  1.14119480e+00, -6.25475300e-01,\n",
       "         1.45672150e+00],\n",
       "       [ 1.48746777e+00, -8.76274582e-01,  1.13325761e+00,\n",
       "         1.53277446e+00],\n",
       "       [ 1.50473349e+00,  1.14119480e+00, -7.72036376e-01,\n",
       "         1.53277446e+00],\n",
       "       [ 1.52199921e+00, -8.76274582e-01,  1.80610619e-01,\n",
       "         1.60882742e+00],\n",
       "       [ 1.53926493e+00, -8.76274582e-01, -1.85792071e-01,\n",
       "         1.60882742e+00],\n",
       "       [ 1.55653065e+00, -8.76274582e-01, -3.32353148e-01,\n",
       "         1.60882742e+00],\n",
       "       [ 1.57379636e+00, -8.76274582e-01, -4.78914224e-01,\n",
       "         1.60882742e+00],\n",
       "       [ 1.59106208e+00,  1.14119480e+00, -4.05633686e-01,\n",
       "         1.98909223e+00],\n",
       "       [ 1.60832780e+00, -8.76274582e-01, -3.92309951e-02,\n",
       "         1.98909223e+00],\n",
       "       [ 1.62559352e+00, -8.76274582e-01,  6.20293848e-01,\n",
       "         2.25527759e+00],\n",
       "       [ 1.64285924e+00, -8.76274582e-01, -2.59072609e-01,\n",
       "         2.25527759e+00],\n",
       "       [ 1.66012495e+00, -8.76274582e-01,  4.73732772e-01,\n",
       "         2.48343648e+00],\n",
       "       [ 1.67739067e+00,  1.14119480e+00, -4.78914224e-01,\n",
       "         2.48343648e+00],\n",
       "       [ 1.69465639e+00,  1.14119480e+00, -4.78914224e-01,\n",
       "         2.90172777e+00],\n",
       "       [ 1.71192211e+00,  1.14119480e+00, -6.25475300e-01,\n",
       "         2.90172777e+00]])"
      ]
     },
     "execution_count": 33,
     "metadata": {},
     "output_type": "execute_result"
    }
   ],
   "source": [
    "st_scale"
   ]
  },
  {
   "cell_type": "code",
   "execution_count": 33,
   "metadata": {},
   "outputs": [],
   "source": [
    "##Normalization"
   ]
  },
  {
   "cell_type": "code",
   "execution_count": 34,
   "metadata": {},
   "outputs": [],
   "source": [
    "from sklearn.preprocessing import MinMaxScaler"
   ]
  },
  {
   "cell_type": "code",
   "execution_count": 35,
   "metadata": {},
   "outputs": [],
   "source": [
    "min_max=MinMaxScaler(feature_range=(0,1))"
   ]
  },
  {
   "cell_type": "code",
   "execution_count": 36,
   "metadata": {},
   "outputs": [],
   "source": [
    "norm_scal=min_max.fit_transform(x)"
   ]
  },
  {
   "cell_type": "code",
   "execution_count": 37,
   "metadata": {},
   "outputs": [
    {
     "data": {
      "text/plain": [
       "array([[0.        , 0.3877551 ],\n",
       "       [0.        , 0.81632653],\n",
       "       [0.00819672, 0.05102041],\n",
       "       [0.00819672, 0.7755102 ],\n",
       "       [0.01639344, 0.39795918],\n",
       "       [0.01639344, 0.76530612],\n",
       "       [0.02459016, 0.05102041],\n",
       "       [0.02459016, 0.94897959],\n",
       "       [0.03278689, 0.02040816],\n",
       "       [0.03278689, 0.7244898 ],\n",
       "       [0.03278689, 0.13265306],\n",
       "       [0.03278689, 1.        ],\n",
       "       [0.04098361, 0.14285714],\n",
       "       [0.04098361, 0.7755102 ],\n",
       "       [0.04098361, 0.12244898],\n",
       "       [0.04098361, 0.79591837],\n",
       "       [0.04918033, 0.34693878],\n",
       "       [0.04918033, 0.66326531],\n",
       "       [0.06557377, 0.28571429],\n",
       "       [0.06557377, 0.98979592],\n",
       "       [0.07377049, 0.34693878],\n",
       "       [0.07377049, 0.73469388],\n",
       "       [0.08196721, 0.04081633],\n",
       "       [0.08196721, 0.73469388],\n",
       "       [0.10655738, 0.13265306],\n",
       "       [0.10655738, 0.82653061],\n",
       "       [0.10655738, 0.31632653],\n",
       "       [0.10655738, 0.6122449 ],\n",
       "       [0.1147541 , 0.30612245],\n",
       "       [0.1147541 , 0.87755102],\n",
       "       [0.12295082, 0.03061224],\n",
       "       [0.12295082, 0.73469388],\n",
       "       [0.14754098, 0.03061224],\n",
       "       [0.14754098, 0.92857143],\n",
       "       [0.14754098, 0.13265306],\n",
       "       [0.14754098, 0.81632653],\n",
       "       [0.1557377 , 0.16326531],\n",
       "       [0.1557377 , 0.73469388],\n",
       "       [0.18032787, 0.25510204],\n",
       "       [0.18032787, 0.75510204],\n",
       "       [0.18852459, 0.34693878],\n",
       "       [0.18852459, 0.92857143],\n",
       "       [0.19672131, 0.35714286],\n",
       "       [0.19672131, 0.6122449 ],\n",
       "       [0.19672131, 0.2755102 ],\n",
       "       [0.19672131, 0.65306122],\n",
       "       [0.20491803, 0.55102041],\n",
       "       [0.20491803, 0.46938776],\n",
       "       [0.20491803, 0.41836735],\n",
       "       [0.20491803, 0.41836735],\n",
       "       [0.22131148, 0.52040816],\n",
       "       [0.22131148, 0.60204082],\n",
       "       [0.2295082 , 0.54081633],\n",
       "       [0.2295082 , 0.60204082],\n",
       "       [0.2295082 , 0.44897959],\n",
       "       [0.2295082 , 0.40816327],\n",
       "       [0.23770492, 0.5       ],\n",
       "       [0.23770492, 0.45918367],\n",
       "       [0.25409836, 0.51020408],\n",
       "       [0.25409836, 0.45918367],\n",
       "       [0.25409836, 0.55102041],\n",
       "       [0.26229508, 0.52040816],\n",
       "       [0.26229508, 0.59183673],\n",
       "       [0.2704918 , 0.51020408],\n",
       "       [0.2704918 , 0.59183673],\n",
       "       [0.2704918 , 0.5       ],\n",
       "       [0.2704918 , 0.47959184],\n",
       "       [0.2704918 , 0.59183673],\n",
       "       [0.2704918 , 0.46938776],\n",
       "       [0.27868852, 0.41836735],\n",
       "       [0.28688525, 0.48979592],\n",
       "       [0.28688525, 0.56122449],\n",
       "       [0.31967213, 0.46938776],\n",
       "       [0.31967213, 0.54081633],\n",
       "       [0.31967213, 0.53061224],\n",
       "       [0.31967213, 0.47959184],\n",
       "       [0.31967213, 0.52040816],\n",
       "       [0.31967213, 0.41836735],\n",
       "       [0.31967213, 0.51020408],\n",
       "       [0.31967213, 0.55102041],\n",
       "       [0.31967213, 0.40816327],\n",
       "       [0.31967213, 0.43877551],\n",
       "       [0.31967213, 0.57142857],\n",
       "       [0.31967213, 0.45918367],\n",
       "       [0.3442623 , 0.58163265],\n",
       "       [0.3442623 , 0.55102041],\n",
       "       [0.35245902, 0.60204082],\n",
       "       [0.35245902, 0.45918367],\n",
       "       [0.36065574, 0.55102041],\n",
       "       [0.36065574, 0.40816327],\n",
       "       [0.36885246, 0.48979592],\n",
       "       [0.36885246, 0.39795918],\n",
       "       [0.36885246, 0.41836735],\n",
       "       [0.36885246, 0.52040816],\n",
       "       [0.36885246, 0.46938776],\n",
       "       [0.36885246, 0.5       ],\n",
       "       [0.37704918, 0.41836735],\n",
       "       [0.37704918, 0.48979592],\n",
       "       [0.3852459 , 0.40816327],\n",
       "       [0.3852459 , 0.47959184],\n",
       "       [0.3852459 , 0.59183673],\n",
       "       [0.3852459 , 0.55102041],\n",
       "       [0.3852459 , 0.56122449],\n",
       "       [0.3852459 , 0.41836735],\n",
       "       [0.39344262, 0.5       ],\n",
       "       [0.39344262, 0.45918367],\n",
       "       [0.39344262, 0.42857143],\n",
       "       [0.39344262, 0.47959184],\n",
       "       [0.39344262, 0.52040816],\n",
       "       [0.39344262, 0.54081633],\n",
       "       [0.40163934, 0.41836735],\n",
       "       [0.40163934, 0.45918367],\n",
       "       [0.40983607, 0.47959184],\n",
       "       [0.40983607, 0.5       ],\n",
       "       [0.40983607, 0.42857143],\n",
       "       [0.40983607, 0.59183673],\n",
       "       [0.42622951, 0.42857143],\n",
       "       [0.42622951, 0.57142857],\n",
       "       [0.42622951, 0.56122449],\n",
       "       [0.42622951, 0.39795918],\n",
       "       [0.44262295, 0.58163265],\n",
       "       [0.44262295, 0.91836735],\n",
       "       [0.45081967, 0.28571429],\n",
       "       [0.45081967, 0.7755102 ],\n",
       "       [0.45901639, 0.34693878],\n",
       "       [0.45901639, 0.95918367],\n",
       "       [0.45901639, 0.10204082],\n",
       "       [0.45901639, 0.75510204],\n",
       "       [0.45901639, 0.08163265],\n",
       "       [0.45901639, 0.75510204],\n",
       "       [0.46721311, 0.33673469],\n",
       "       [0.46721311, 0.71428571],\n",
       "       [0.47540984, 0.04081633],\n",
       "       [0.47540984, 0.8877551 ],\n",
       "       [0.47540984, 0.06122449],\n",
       "       [0.47540984, 0.73469388],\n",
       "       [0.48360656, 0.09183673],\n",
       "       [0.48360656, 0.7244898 ],\n",
       "       [0.49180328, 0.04081633],\n",
       "       [0.49180328, 0.93877551],\n",
       "       [0.5       , 0.39795918],\n",
       "       [0.5       , 0.87755102],\n",
       "       [0.50819672, 0.1122449 ],\n",
       "       [0.50819672, 0.97959184],\n",
       "       [0.50819672, 0.35714286],\n",
       "       [0.50819672, 0.74489796],\n",
       "       [0.51639344, 0.21428571],\n",
       "       [0.51639344, 0.90816327],\n",
       "       [0.51639344, 0.16326531],\n",
       "       [0.51639344, 0.8877551 ],\n",
       "       [0.51639344, 0.19387755],\n",
       "       [0.51639344, 0.76530612],\n",
       "       [0.51639344, 0.15306122],\n",
       "       [0.51639344, 0.89795918],\n",
       "       [0.51639344, 0.        ],\n",
       "       [0.51639344, 0.78571429],\n",
       "       [0.51639344, 0.        ],\n",
       "       [0.51639344, 0.73469388],\n",
       "       [0.52459016, 0.34693878],\n",
       "       [0.52459016, 0.83673469],\n",
       "       [0.54098361, 0.04081633],\n",
       "       [0.54098361, 0.93877551],\n",
       "       [0.57377049, 0.25510204],\n",
       "       [0.57377049, 0.75510204],\n",
       "       [0.58196721, 0.19387755],\n",
       "       [0.58196721, 0.95918367],\n",
       "       [0.59016393, 0.26530612],\n",
       "       [0.59016393, 0.63265306],\n",
       "       [0.59016393, 0.12244898],\n",
       "       [0.59016393, 0.75510204],\n",
       "       [0.59016393, 0.09183673],\n",
       "       [0.59016393, 0.92857143],\n",
       "       [0.59836066, 0.12244898],\n",
       "       [0.59836066, 0.86734694],\n",
       "       [0.59836066, 0.14285714],\n",
       "       [0.59836066, 0.69387755],\n",
       "       [0.63934426, 0.13265306],\n",
       "       [0.63934426, 0.90816327],\n",
       "       [0.67213115, 0.31632653],\n",
       "       [0.67213115, 0.86734694],\n",
       "       [0.68032787, 0.14285714],\n",
       "       [0.68032787, 0.8877551 ],\n",
       "       [0.68852459, 0.3877551 ],\n",
       "       [0.68852459, 0.97959184],\n",
       "       [0.70491803, 0.23469388],\n",
       "       [0.70491803, 0.68367347],\n",
       "       [0.72131148, 0.16326531],\n",
       "       [0.72131148, 0.85714286],\n",
       "       [0.72131148, 0.2244898 ],\n",
       "       [0.72131148, 0.69387755],\n",
       "       [0.80327869, 0.07142857],\n",
       "       [0.80327869, 0.91836735],\n",
       "       [0.86065574, 0.15306122],\n",
       "       [0.86065574, 0.79591837],\n",
       "       [0.90983607, 0.2755102 ],\n",
       "       [0.90983607, 0.74489796],\n",
       "       [1.        , 0.17346939],\n",
       "       [1.        , 0.83673469]])"
      ]
     },
     "execution_count": 37,
     "metadata": {},
     "output_type": "execute_result"
    }
   ],
   "source": [
    "norm_scal"
   ]
  },
  {
   "cell_type": "markdown",
   "metadata": {},
   "source": [
    "## 9.Perform any of the clustering algorithms "
   ]
  },
  {
   "cell_type": "code",
   "execution_count": 38,
   "metadata": {},
   "outputs": [],
   "source": [
    "from sklearn.cluster import KMeans"
   ]
  },
  {
   "cell_type": "code",
   "execution_count": 39,
   "metadata": {},
   "outputs": [
    {
     "name": "stderr",
     "output_type": "stream",
     "text": [
      "C:\\Users\\sajus\\Anaconda3\\lib\\site-packages\\sklearn\\cluster\\_kmeans.py:1037: UserWarning: KMeans is known to have a memory leak on Windows with MKL, when there are less chunks than available threads. You can avoid it by setting the environment variable OMP_NUM_THREADS=1.\n",
      "  \"KMeans is known to have a memory leak on Windows \"\n"
     ]
    }
   ],
   "source": [
    "wcss=[]\n",
    "for i in range(1,11):\n",
    "    kmeans=KMeans(n_clusters=i, init='k-means++',random_state=0)   \n",
    "    kmeans.fit(data)\n",
    "    wcss.append(kmeans.inertia_)"
   ]
  },
  {
   "cell_type": "code",
   "execution_count": 40,
   "metadata": {},
   "outputs": [
    {
     "data": {
      "text/plain": [
       "Text(0, 0.5, 'WCSS')"
      ]
     },
     "execution_count": 40,
     "metadata": {},
     "output_type": "execute_result"
    },
    {
     "data": {
      "image/png": "[encoded data removed]",
      "text/plain": [
       "<Figure size 432x288 with 1 Axes>"
      ]
     },
     "metadata": {
      "needs_background": "light"
     },
     "output_type": "display_data"
    }
   ],
   "source": [
    "import matplotlib.pyplot as plt\n",
    "plt.plot(range(1,11),wcss)\n",
    "plt.title(\"Elbow Method\")\n",
    "plt.xlabel('No of Clusters')\n",
    "plt.ylabel('WCSS')"
   ]
  },
  {
   "cell_type": "code",
   "execution_count": 41,
   "metadata": {},
   "outputs": [],
   "source": [
    "km_model=KMeans(n_clusters=3, init='k-means++',random_state=0)"
   ]
  },
  {
   "cell_type": "code",
   "execution_count": 42,
   "metadata": {},
   "outputs": [],
   "source": [
    "ykmeans=km_model.fit_predict(data)"
   ]
  },
  {
   "cell_type": "code",
   "execution_count": 43,
   "metadata": {},
   "outputs": [
    {
     "name": "stdout",
     "output_type": "stream",
     "text": [
      "[2 2 2 2 2 2 2 2 2 2 2 2 2 2 2 2 2 2 2 2 2 2 2 2 2 2 2 2 2 2 2 2 2 2 2 2 2\n",
      " 2 2 2 2 2 2 2 2 2 2 2 2 2 2 2 2 2 2 2 2 2 2 2 2 1 1 1 1 1 1 1 1 1 1 1 1 1\n",
      " 1 1 1 1 1 1 1 1 1 1 1 1 1 1 1 1 1 1 1 1 1 1 1 1 1 1 1 1 1 1 1 1 1 1 1 1 1\n",
      " 1 1 1 1 1 1 1 1 1 1 1 1 1 1 1 1 1 1 1 0 0 0 0 0 0 0 0 0 0 0 0 0 0 0 0 0 0\n",
      " 0 0 0 0 0 0 0 0 0 0 0 0 0 0 0 0 0 0 0 0 0 0 0 0 0 0 0 0 0 0 0 0 0 0 0 0 0\n",
      " 0 0 0 0 0 0 0 0 0 0 0 0 0]\n"
     ]
    }
   ],
   "source": [
    "print(ykmeans)"
   ]
  },
  {
   "cell_type": "code",
   "execution_count": 44,
   "metadata": {},
   "outputs": [
    {
     "data": {
      "text/html": [
       "<div>\n",
       "<style scoped>\n",
       "    .dataframe tbody tr th:only-of-type {\n",
       "        vertical-align: middle;\n",
       "    }\n",
       "\n",
       "    .dataframe tbody tr th {\n",
       "        vertical-align: top;\n",
       "    }\n",
       "\n",
       "    .dataframe thead th {\n",
       "        text-align: right;\n",
       "    }\n",
       "</style>\n",
       "<table border=\"1\" class=\"dataframe\">\n",
       "  <thead>\n",
       "    <tr style=\"text-align: right;\">\n",
       "      <th></th>\n",
       "      <th>CustomerID</th>\n",
       "      <th>Gender</th>\n",
       "      <th>Age</th>\n",
       "      <th>Annual Income (k$)</th>\n",
       "      <th>Spending Score (1-100)</th>\n",
       "    </tr>\n",
       "  </thead>\n",
       "  <tbody>\n",
       "    <tr>\n",
       "      <th>0</th>\n",
       "      <td>1</td>\n",
       "      <td>1</td>\n",
       "      <td>19</td>\n",
       "      <td>15</td>\n",
       "      <td>39</td>\n",
       "    </tr>\n",
       "    <tr>\n",
       "      <th>1</th>\n",
       "      <td>2</td>\n",
       "      <td>1</td>\n",
       "      <td>21</td>\n",
       "      <td>15</td>\n",
       "      <td>81</td>\n",
       "    </tr>\n",
       "    <tr>\n",
       "      <th>2</th>\n",
       "      <td>3</td>\n",
       "      <td>0</td>\n",
       "      <td>20</td>\n",
       "      <td>16</td>\n",
       "      <td>6</td>\n",
       "    </tr>\n",
       "    <tr>\n",
       "      <th>3</th>\n",
       "      <td>4</td>\n",
       "      <td>0</td>\n",
       "      <td>23</td>\n",
       "      <td>16</td>\n",
       "      <td>77</td>\n",
       "    </tr>\n",
       "    <tr>\n",
       "      <th>4</th>\n",
       "      <td>5</td>\n",
       "      <td>0</td>\n",
       "      <td>31</td>\n",
       "      <td>17</td>\n",
       "      <td>40</td>\n",
       "    </tr>\n",
       "  </tbody>\n",
       "</table>\n",
       "</div>"
      ],
      "text/plain": [
       "   CustomerID  Gender  Age  Annual Income (k$)  Spending Score (1-100)\n",
       "0           1       1   19                  15                      39\n",
       "1           2       1   21                  15                      81\n",
       "2           3       0   20                  16                       6\n",
       "3           4       0   23                  16                      77\n",
       "4           5       0   31                  17                      40"
      ]
     },
     "execution_count": 44,
     "metadata": {},
     "output_type": "execute_result"
    }
   ],
   "source": [
    "data.head()"
   ]
  },
  {
   "cell_type": "markdown",
   "metadata": {},
   "source": [
    "## 10. ADD CLUSTER DATA WITH MAIN DATASET "
   ]
  },
  {
   "cell_type": "code",
   "execution_count": 45,
   "metadata": {},
   "outputs": [
    {
     "name": "stderr",
     "output_type": "stream",
     "text": [
      "C:\\Users\\sajus\\Anaconda3\\lib\\site-packages\\ipykernel_launcher.py:1: SettingWithCopyWarning: \n",
      "A value is trying to be set on a copy of a slice from a DataFrame.\n",
      "Try using .loc[row_indexer,col_indexer] = value instead\n",
      "\n",
      "See the caveats in the documentation: http://pandas.pydata.org/pandas-docs/stable/indexing.html#indexing-view-versus-copy\n",
      "  \"\"\"Entry point for launching an IPython kernel.\n"
     ]
    }
   ],
   "source": [
    "data['Kclus']=pd.Series(ykmeans)"
   ]
  },
  {
   "cell_type": "code",
   "execution_count": 46,
   "metadata": {},
   "outputs": [
    {
     "data": {
      "text/html": [
       "<div>\n",
       "<style scoped>\n",
       "    .dataframe tbody tr th:only-of-type {\n",
       "        vertical-align: middle;\n",
       "    }\n",
       "\n",
       "    .dataframe tbody tr th {\n",
       "        vertical-align: top;\n",
       "    }\n",
       "\n",
       "    .dataframe thead th {\n",
       "        text-align: right;\n",
       "    }\n",
       "</style>\n",
       "<table border=\"1\" class=\"dataframe\">\n",
       "  <thead>\n",
       "    <tr style=\"text-align: right;\">\n",
       "      <th></th>\n",
       "      <th>CustomerID</th>\n",
       "      <th>Gender</th>\n",
       "      <th>Age</th>\n",
       "      <th>Annual Income (k$)</th>\n",
       "      <th>Spending Score (1-100)</th>\n",
       "      <th>Kclus</th>\n",
       "    </tr>\n",
       "  </thead>\n",
       "  <tbody>\n",
       "    <tr>\n",
       "      <th>0</th>\n",
       "      <td>1</td>\n",
       "      <td>1</td>\n",
       "      <td>19</td>\n",
       "      <td>15</td>\n",
       "      <td>39</td>\n",
       "      <td>2.0</td>\n",
       "    </tr>\n",
       "    <tr>\n",
       "      <th>1</th>\n",
       "      <td>2</td>\n",
       "      <td>1</td>\n",
       "      <td>21</td>\n",
       "      <td>15</td>\n",
       "      <td>81</td>\n",
       "      <td>2.0</td>\n",
       "    </tr>\n",
       "    <tr>\n",
       "      <th>2</th>\n",
       "      <td>3</td>\n",
       "      <td>0</td>\n",
       "      <td>20</td>\n",
       "      <td>16</td>\n",
       "      <td>6</td>\n",
       "      <td>2.0</td>\n",
       "    </tr>\n",
       "    <tr>\n",
       "      <th>3</th>\n",
       "      <td>4</td>\n",
       "      <td>0</td>\n",
       "      <td>23</td>\n",
       "      <td>16</td>\n",
       "      <td>77</td>\n",
       "      <td>2.0</td>\n",
       "    </tr>\n",
       "    <tr>\n",
       "      <th>4</th>\n",
       "      <td>5</td>\n",
       "      <td>0</td>\n",
       "      <td>31</td>\n",
       "      <td>17</td>\n",
       "      <td>40</td>\n",
       "      <td>2.0</td>\n",
       "    </tr>\n",
       "  </tbody>\n",
       "</table>\n",
       "</div>"
      ],
      "text/plain": [
       "   CustomerID  Gender  Age  Annual Income (k$)  Spending Score (1-100)  Kclus\n",
       "0           1       1   19                  15                      39    2.0\n",
       "1           2       1   21                  15                      81    2.0\n",
       "2           3       0   20                  16                       6    2.0\n",
       "3           4       0   23                  16                      77    2.0\n",
       "4           5       0   31                  17                      40    2.0"
      ]
     },
     "execution_count": 46,
     "metadata": {},
     "output_type": "execute_result"
    }
   ],
   "source": [
    "data.head()"
   ]
  },
  {
   "cell_type": "code",
   "execution_count": 47,
   "metadata": {},
   "outputs": [
    {
     "data": {
      "text/plain": [
       "array([ 2.,  1.,  0., nan])"
      ]
     },
     "execution_count": 47,
     "metadata": {},
     "output_type": "execute_result"
    }
   ],
   "source": [
    "data['Kclus'].unique()"
   ]
  },
  {
   "cell_type": "code",
   "execution_count": 48,
   "metadata": {},
   "outputs": [
    {
     "data": {
      "text/plain": [
       "0    0.0\n",
       "1    1.0\n",
       "dtype: float64"
      ]
     },
     "execution_count": 48,
     "metadata": {},
     "output_type": "execute_result"
    }
   ],
   "source": [
    "data['Kclus'].mode()"
   ]
  },
  {
   "cell_type": "code",
   "execution_count": 49,
   "metadata": {},
   "outputs": [
    {
     "name": "stderr",
     "output_type": "stream",
     "text": [
      "C:\\Users\\sajus\\Anaconda3\\lib\\site-packages\\pandas\\core\\generic.py:6130: SettingWithCopyWarning: \n",
      "A value is trying to be set on a copy of a slice from a DataFrame\n",
      "\n",
      "See the caveats in the documentation: http://pandas.pydata.org/pandas-docs/stable/indexing.html#indexing-view-versus-copy\n",
      "  self._update_inplace(new_data)\n"
     ]
    }
   ],
   "source": [
    "data['Kclus'].fillna(data['Kclus'].mode()[0],inplace=True)"
   ]
  },
  {
   "cell_type": "code",
   "execution_count": 50,
   "metadata": {},
   "outputs": [
    {
     "data": {
      "text/plain": [
       "CustomerID                0\n",
       "Gender                    0\n",
       "Age                       0\n",
       "Annual Income (k$)        0\n",
       "Spending Score (1-100)    0\n",
       "Kclus                     0\n",
       "dtype: int64"
      ]
     },
     "execution_count": 50,
     "metadata": {},
     "output_type": "execute_result"
    }
   ],
   "source": [
    "data.isnull().sum()"
   ]
  },
  {
   "cell_type": "code",
   "execution_count": 51,
   "metadata": {},
   "outputs": [
    {
     "data": {
      "text/html": [
       "<div>\n",
       "<style scoped>\n",
       "    .dataframe tbody tr th:only-of-type {\n",
       "        vertical-align: middle;\n",
       "    }\n",
       "\n",
       "    .dataframe tbody tr th {\n",
       "        vertical-align: top;\n",
       "    }\n",
       "\n",
       "    .dataframe thead th {\n",
       "        text-align: right;\n",
       "    }\n",
       "</style>\n",
       "<table border=\"1\" class=\"dataframe\">\n",
       "  <thead>\n",
       "    <tr style=\"text-align: right;\">\n",
       "      <th></th>\n",
       "      <th>CustomerID</th>\n",
       "      <th>Gender</th>\n",
       "      <th>Age</th>\n",
       "      <th>Annual Income (k$)</th>\n",
       "      <th>Spending Score (1-100)</th>\n",
       "      <th>Kclus</th>\n",
       "    </tr>\n",
       "  </thead>\n",
       "  <tbody>\n",
       "    <tr>\n",
       "      <th>0</th>\n",
       "      <td>1</td>\n",
       "      <td>1</td>\n",
       "      <td>19</td>\n",
       "      <td>15</td>\n",
       "      <td>39</td>\n",
       "      <td>2.0</td>\n",
       "    </tr>\n",
       "    <tr>\n",
       "      <th>1</th>\n",
       "      <td>2</td>\n",
       "      <td>1</td>\n",
       "      <td>21</td>\n",
       "      <td>15</td>\n",
       "      <td>81</td>\n",
       "      <td>2.0</td>\n",
       "    </tr>\n",
       "    <tr>\n",
       "      <th>2</th>\n",
       "      <td>3</td>\n",
       "      <td>0</td>\n",
       "      <td>20</td>\n",
       "      <td>16</td>\n",
       "      <td>6</td>\n",
       "      <td>2.0</td>\n",
       "    </tr>\n",
       "    <tr>\n",
       "      <th>3</th>\n",
       "      <td>4</td>\n",
       "      <td>0</td>\n",
       "      <td>23</td>\n",
       "      <td>16</td>\n",
       "      <td>77</td>\n",
       "      <td>2.0</td>\n",
       "    </tr>\n",
       "    <tr>\n",
       "      <th>4</th>\n",
       "      <td>5</td>\n",
       "      <td>0</td>\n",
       "      <td>31</td>\n",
       "      <td>17</td>\n",
       "      <td>40</td>\n",
       "      <td>2.0</td>\n",
       "    </tr>\n",
       "  </tbody>\n",
       "</table>\n",
       "</div>"
      ],
      "text/plain": [
       "   CustomerID  Gender  Age  Annual Income (k$)  Spending Score (1-100)  Kclus\n",
       "0           1       1   19                  15                      39    2.0\n",
       "1           2       1   21                  15                      81    2.0\n",
       "2           3       0   20                  16                       6    2.0\n",
       "3           4       0   23                  16                      77    2.0\n",
       "4           5       0   31                  17                      40    2.0"
      ]
     },
     "execution_count": 51,
     "metadata": {},
     "output_type": "execute_result"
    }
   ],
   "source": [
    "data.head()"
   ]
  },
  {
   "cell_type": "code",
   "execution_count": 52,
   "metadata": {},
   "outputs": [
    {
     "name": "stderr",
     "output_type": "stream",
     "text": [
      "C:\\Users\\sajus\\Anaconda3\\lib\\site-packages\\ipykernel_launcher.py:1: SettingWithCopyWarning: \n",
      "A value is trying to be set on a copy of a slice from a DataFrame.\n",
      "Try using .loc[row_indexer,col_indexer] = value instead\n",
      "\n",
      "See the caveats in the documentation: http://pandas.pydata.org/pandas-docs/stable/indexing.html#indexing-view-versus-copy\n",
      "  \"\"\"Entry point for launching an IPython kernel.\n"
     ]
    }
   ],
   "source": [
    "data['Kclus']=data['Kclus'].astype('int32')"
   ]
  },
  {
   "cell_type": "code",
   "execution_count": 53,
   "metadata": {},
   "outputs": [
    {
     "data": {
      "text/html": [
       "<div>\n",
       "<style scoped>\n",
       "    .dataframe tbody tr th:only-of-type {\n",
       "        vertical-align: middle;\n",
       "    }\n",
       "\n",
       "    .dataframe tbody tr th {\n",
       "        vertical-align: top;\n",
       "    }\n",
       "\n",
       "    .dataframe thead th {\n",
       "        text-align: right;\n",
       "    }\n",
       "</style>\n",
       "<table border=\"1\" class=\"dataframe\">\n",
       "  <thead>\n",
       "    <tr style=\"text-align: right;\">\n",
       "      <th></th>\n",
       "      <th>CustomerID</th>\n",
       "      <th>Gender</th>\n",
       "      <th>Age</th>\n",
       "      <th>Annual Income (k$)</th>\n",
       "      <th>Spending Score (1-100)</th>\n",
       "      <th>Kclus</th>\n",
       "    </tr>\n",
       "  </thead>\n",
       "  <tbody>\n",
       "    <tr>\n",
       "      <th>0</th>\n",
       "      <td>1</td>\n",
       "      <td>1</td>\n",
       "      <td>19</td>\n",
       "      <td>15</td>\n",
       "      <td>39</td>\n",
       "      <td>2</td>\n",
       "    </tr>\n",
       "    <tr>\n",
       "      <th>1</th>\n",
       "      <td>2</td>\n",
       "      <td>1</td>\n",
       "      <td>21</td>\n",
       "      <td>15</td>\n",
       "      <td>81</td>\n",
       "      <td>2</td>\n",
       "    </tr>\n",
       "    <tr>\n",
       "      <th>2</th>\n",
       "      <td>3</td>\n",
       "      <td>0</td>\n",
       "      <td>20</td>\n",
       "      <td>16</td>\n",
       "      <td>6</td>\n",
       "      <td>2</td>\n",
       "    </tr>\n",
       "    <tr>\n",
       "      <th>3</th>\n",
       "      <td>4</td>\n",
       "      <td>0</td>\n",
       "      <td>23</td>\n",
       "      <td>16</td>\n",
       "      <td>77</td>\n",
       "      <td>2</td>\n",
       "    </tr>\n",
       "    <tr>\n",
       "      <th>4</th>\n",
       "      <td>5</td>\n",
       "      <td>0</td>\n",
       "      <td>31</td>\n",
       "      <td>17</td>\n",
       "      <td>40</td>\n",
       "      <td>2</td>\n",
       "    </tr>\n",
       "  </tbody>\n",
       "</table>\n",
       "</div>"
      ],
      "text/plain": [
       "   CustomerID  Gender  Age  Annual Income (k$)  Spending Score (1-100)  Kclus\n",
       "0           1       1   19                  15                      39      2\n",
       "1           2       1   21                  15                      81      2\n",
       "2           3       0   20                  16                       6      2\n",
       "3           4       0   23                  16                      77      2\n",
       "4           5       0   31                  17                      40      2"
      ]
     },
     "execution_count": 53,
     "metadata": {},
     "output_type": "execute_result"
    }
   ],
   "source": [
    "data.head()"
   ]
  },
  {
   "cell_type": "code",
   "execution_count": 54,
   "metadata": {},
   "outputs": [
    {
     "data": {
      "text/plain": [
       "0    70\n",
       "1    68\n",
       "2    60\n",
       "Name: Kclus, dtype: int64"
      ]
     },
     "execution_count": 54,
     "metadata": {},
     "output_type": "execute_result"
    }
   ],
   "source": [
    "data.Kclus.value_counts()"
   ]
  },
  {
   "cell_type": "markdown",
   "metadata": {},
   "source": [
    "## 11.Split the Data into Dependent and Independent variables"
   ]
  },
  {
   "cell_type": "code",
   "execution_count": 55,
   "metadata": {},
   "outputs": [],
   "source": [
    "y=data['Spending Score (1-100)']"
   ]
  },
  {
   "cell_type": "code",
   "execution_count": 56,
   "metadata": {},
   "outputs": [],
   "source": [
    "x=data.drop('Spending Score (1-100)',axis=1)"
   ]
  },
  {
   "cell_type": "code",
   "execution_count": 57,
   "metadata": {},
   "outputs": [
    {
     "name": "stdout",
     "output_type": "stream",
     "text": [
      "     CustomerID  Gender  Age  Annual Income (k$)  Kclus\n",
      "0             1       1   19                  15      2\n",
      "1             2       1   21                  15      2\n",
      "2             3       0   20                  16      2\n",
      "3             4       0   23                  16      2\n",
      "4             5       0   31                  17      2\n",
      "5             6       0   22                  17      2\n",
      "6             7       0   35                  18      2\n",
      "7             8       0   23                  18      2\n",
      "8             9       1   64                  19      2\n",
      "9            10       0   30                  19      2\n",
      "10           11       1   67                  19      2\n",
      "11           12       0   35                  19      2\n",
      "12           13       0   58                  20      2\n",
      "13           14       0   24                  20      2\n",
      "14           15       1   37                  20      2\n",
      "15           16       1   22                  20      2\n",
      "16           17       0   35                  21      2\n",
      "17           18       1   20                  21      2\n",
      "18           19       1   52                  23      2\n",
      "19           20       0   35                  23      2\n",
      "20           21       1   35                  24      2\n",
      "21           22       1   25                  24      2\n",
      "22           23       0   46                  25      2\n",
      "23           24       1   31                  25      2\n",
      "24           25       0   54                  28      2\n",
      "25           26       1   29                  28      2\n",
      "26           27       0   45                  28      2\n",
      "27           28       1   35                  28      2\n",
      "28           29       0   40                  29      2\n",
      "29           30       0   23                  29      2\n",
      "..          ...     ...  ...                 ...    ...\n",
      "170         171       1   40                  87      0\n",
      "171         172       1   28                  87      0\n",
      "172         173       1   36                  87      0\n",
      "173         174       1   36                  87      0\n",
      "174         175       0   52                  88      0\n",
      "175         176       0   30                  88      0\n",
      "176         177       1   58                  88      0\n",
      "177         178       1   27                  88      0\n",
      "178         179       1   59                  93      0\n",
      "179         180       1   35                  93      0\n",
      "180         181       0   37                  97      0\n",
      "181         182       0   32                  97      0\n",
      "182         183       1   46                  98      0\n",
      "183         184       0   29                  98      0\n",
      "184         185       0   41                  99      0\n",
      "185         186       1   30                  99      0\n",
      "186         187       0   54                 101      0\n",
      "187         188       1   28                 101      0\n",
      "188         189       0   41                 103      0\n",
      "189         190       0   36                 103      0\n",
      "190         191       0   34                 103      0\n",
      "191         192       0   32                 103      0\n",
      "192         193       1   33                 113      0\n",
      "193         194       0   38                 113      0\n",
      "194         195       0   47                 120      0\n",
      "195         196       0   35                 120      0\n",
      "196         197       0   45                 126      0\n",
      "197         198       1   32                 126      0\n",
      "198         199       1   32                 137      0\n",
      "199         200       1   30                 137      0\n",
      "\n",
      "[198 rows x 5 columns]\n"
     ]
    }
   ],
   "source": [
    "print(x)"
   ]
  },
  {
   "cell_type": "code",
   "execution_count": 58,
   "metadata": {},
   "outputs": [
    {
     "name": "stdout",
     "output_type": "stream",
     "text": [
      "0      39\n",
      "1      81\n",
      "2       6\n",
      "3      77\n",
      "4      40\n",
      "5      76\n",
      "6       6\n",
      "7      94\n",
      "8       3\n",
      "9      72\n",
      "10     14\n",
      "11     99\n",
      "12     15\n",
      "13     77\n",
      "14     13\n",
      "15     79\n",
      "16     35\n",
      "17     66\n",
      "18     29\n",
      "19     98\n",
      "20     35\n",
      "21     73\n",
      "22      5\n",
      "23     73\n",
      "24     14\n",
      "25     82\n",
      "26     32\n",
      "27     61\n",
      "28     31\n",
      "29     87\n",
      "       ..\n",
      "170    13\n",
      "171    75\n",
      "172    10\n",
      "173    92\n",
      "174    13\n",
      "175    86\n",
      "176    15\n",
      "177    69\n",
      "178    14\n",
      "179    90\n",
      "180    32\n",
      "181    86\n",
      "182    15\n",
      "183    88\n",
      "184    39\n",
      "185    97\n",
      "186    24\n",
      "187    68\n",
      "188    17\n",
      "189    85\n",
      "190    23\n",
      "191    69\n",
      "192     8\n",
      "193    91\n",
      "194    16\n",
      "195    79\n",
      "196    28\n",
      "197    74\n",
      "198    18\n",
      "199    83\n",
      "Name: Spending Score (1-100), Length: 198, dtype: int64\n"
     ]
    }
   ],
   "source": [
    "print(y)"
   ]
  },
  {
   "cell_type": "markdown",
   "metadata": {},
   "source": [
    "## 12.SPLIT THE DATA INTO TRAINING AND TESTING "
   ]
  },
  {
   "cell_type": "code",
   "execution_count": 59,
   "metadata": {},
   "outputs": [],
   "source": [
    "from sklearn.model_selection import train_test_split"
   ]
  },
  {
   "cell_type": "code",
   "execution_count": 63,
   "metadata": {},
   "outputs": [],
   "source": [
    "x_train,x_test,y_train,y_test=train_test_split(x,y,test_size=0.2,random_state=10)"
   ]
  },
  {
   "cell_type": "code",
   "execution_count": 64,
   "metadata": {},
   "outputs": [
    {
     "data": {
      "text/plain": [
       "(158, 5)"
      ]
     },
     "execution_count": 64,
     "metadata": {},
     "output_type": "execute_result"
    }
   ],
   "source": [
    "x_train.shape"
   ]
  },
  {
   "cell_type": "code",
   "execution_count": 65,
   "metadata": {},
   "outputs": [
    {
     "data": {
      "text/plain": [
       "(158,)"
      ]
     },
     "execution_count": 65,
     "metadata": {},
     "output_type": "execute_result"
    }
   ],
   "source": [
    "y_train.shape"
   ]
  },
  {
   "cell_type": "code",
   "execution_count": 66,
   "metadata": {},
   "outputs": [
    {
     "data": {
      "text/plain": [
       "(40, 5)"
      ]
     },
     "execution_count": 66,
     "metadata": {},
     "output_type": "execute_result"
    }
   ],
   "source": [
    "x_test.shape"
   ]
  },
  {
   "cell_type": "code",
   "execution_count": 67,
   "metadata": {},
   "outputs": [
    {
     "data": {
      "text/plain": [
       "(40,)"
      ]
     },
     "execution_count": 67,
     "metadata": {},
     "output_type": "execute_result"
    }
   ],
   "source": [
    "y_test.shape"
   ]
  },
  {
   "cell_type": "markdown",
   "metadata": {},
   "source": [
    "## 13. Build the Model "
   ]
  },
  {
   "cell_type": "code",
   "execution_count": 68,
   "metadata": {},
   "outputs": [],
   "source": [
    "from sklearn.linear_model import LinearRegression\n",
    "lr=LinearRegression()"
   ]
  },
  {
   "cell_type": "markdown",
   "metadata": {},
   "source": [
    "## 14.Train the Model "
   ]
  },
  {
   "cell_type": "code",
   "execution_count": 69,
   "metadata": {},
   "outputs": [
    {
     "data": {
      "text/plain": [
       "LinearRegression()"
      ]
     },
     "execution_count": 69,
     "metadata": {},
     "output_type": "execute_result"
    }
   ],
   "source": [
    "lr.fit(x_train,y_train)"
   ]
  },
  {
   "cell_type": "markdown",
   "metadata": {},
   "source": [
    "## 15. Test the Model"
   ]
  },
  {
   "cell_type": "code",
   "execution_count": 70,
   "metadata": {},
   "outputs": [
    {
     "data": {
      "text/plain": [
       "array([43.25047645, 57.02908429, 50.20251649, 55.70711785, 57.0140705 ,\n",
       "       49.60489193, 64.61219681, 46.53528748, 43.26507074, 58.17515061,\n",
       "       41.82613422, 27.61825956, 49.55074478, 56.19413575, 40.74487627,\n",
       "       32.8060876 , 56.80631332, 38.06013082, 52.93130222, 59.03428492,\n",
       "       48.02728525, 43.94998595, 29.55712152, 56.16529581, 50.91462054,\n",
       "       60.97813037, 46.01006058, 57.58967359, 58.98854957, 54.6286957 ,\n",
       "       63.4880341 , 63.06657573, 60.57732223, 45.44839871, 61.37087733,\n",
       "       35.74811876, 70.86189719, 57.40274757, 43.5976173 , 43.78491393])"
      ]
     },
     "execution_count": 70,
     "metadata": {},
     "output_type": "execute_result"
    }
   ],
   "source": [
    "y_pred=lr.predict(x_test)\n",
    "y_pred"
   ]
  },
  {
   "cell_type": "markdown",
   "metadata": {},
   "source": [
    "## 16.Measure the performance using Evaluation Metrics"
   ]
  },
  {
   "cell_type": "code",
   "execution_count": 79,
   "metadata": {},
   "outputs": [
    {
     "data": {
      "text/plain": [
       "-6.961535567263691"
      ]
     },
     "execution_count": 79,
     "metadata": {},
     "output_type": "execute_result"
    }
   ],
   "source": [
    "from sklearn.metrics import mean_squared_error, r2_score, mean_absolute_error\n",
    "acc=r2_score(y_pred,y_test)\n",
    "acc"
   ]
  },
  {
   "cell_type": "code",
   "execution_count": 84,
   "metadata": {},
   "outputs": [],
   "source": [
    "mae = mean_absolute_error(y_test,y_pred)"
   ]
  },
  {
   "cell_type": "code",
   "execution_count": 85,
   "metadata": {},
   "outputs": [
    {
     "data": {
      "text/plain": [
       "22.32801080580144"
      ]
     },
     "execution_count": 85,
     "metadata": {},
     "output_type": "execute_result"
    }
   ],
   "source": [
    "mae"
   ]
  },
  {
   "cell_type": "code",
   "execution_count": 86,
   "metadata": {},
   "outputs": [],
   "source": [
    "mse = mean_squared_error(y_test,y_pred)"
   ]
  },
  {
   "cell_type": "code",
   "execution_count": 87,
   "metadata": {},
   "outputs": [
    {
     "data": {
      "text/plain": [
       "783.1652052891498"
      ]
     },
     "execution_count": 87,
     "metadata": {},
     "output_type": "execute_result"
    }
   ],
   "source": [
    "mse"
   ]
  },
  {
   "cell_type": "code",
   "execution_count": null,
   "metadata": {},
   "outputs": [],
   "source": []
  }
 ],
 "metadata": {
  "kernelspec": {
   "display_name": "Python 3 (ipykernel)",
   "language": "python",
   "name": "python3"
  },
  "language_info": {
   "codemirror_mode": {
    "name": "ipython",
    "version": 3
   },
   "file_extension": ".py",
   "mimetype": "text/x-python",
   "name": "python",
   "nbconvert_exporter": "python",
   "pygments_lexer": "ipython3",
   "version": "3.9.12"
  }
 },
 "nbformat": 4,
 "nbformat_minor": 2
}
